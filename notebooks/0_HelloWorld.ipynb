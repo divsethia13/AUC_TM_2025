{
  "cells": [
    {
      "cell_type": "markdown",
      "metadata": {
        "id": "Rx5K-N74Hm9r"
      },
      "source": [
        "# HelloWorld"
      ]
    },
    {
      "cell_type": "code",
      "execution_count": null,
      "metadata": {
        "id": "i8fsOulbHm9s"
      },
      "outputs": [],
      "source": [
        "import pandas as pd"
      ]
    },
    {
      "cell_type": "code",
      "execution_count": null,
      "metadata": {
        "id": "01q5sv4mHm9s",
        "outputId": "881d0b29-d7db-4649-e60c-5fa25a59e797"
      },
      "outputs": [
        {
          "data": {
            "text/plain": [
              "'1.2.1'"
            ]
          },
          "execution_count": 2,
          "metadata": {},
          "output_type": "execute_result"
        }
      ],
      "source": [
        "pd.__version__"
      ]
    },
    {
      "cell_type": "markdown",
      "metadata": {
        "id": "g4tc54tPHm9s"
      },
      "source": [
        "### Variables and operations"
      ]
    },
    {
      "cell_type": "code",
      "execution_count": null,
      "metadata": {
        "id": "EsCKnDMUHm9t"
      },
      "outputs": [],
      "source": [
        "a = 2\n",
        "b = a"
      ]
    },
    {
      "cell_type": "code",
      "execution_count": null,
      "metadata": {
        "id": "0h37oq5XHm9t"
      },
      "outputs": [],
      "source": [
        "b += 10"
      ]
    },
    {
      "cell_type": "code",
      "execution_count": 8,
      "metadata": {
        "colab": {
          "base_uri": "https://localhost:8080/"
        },
        "id": "njWEvo4THm9t",
        "outputId": "17de2a78-ebd2-4b76-eb04-c8b24ce635cf"
      },
      "outputs": [
        {
          "output_type": "stream",
          "name": "stdout",
          "text": [
            "2\n"
          ]
        }
      ],
      "source": [
        "a=2\n",
        "print(a)"
      ]
    },
    {
      "cell_type": "code",
      "execution_count": null,
      "metadata": {
        "id": "xwGXaAdiHm9t",
        "outputId": "168b9b93-89aa-49c7-c913-aa83d9a07161"
      },
      "outputs": [
        {
          "data": {
            "text/plain": [
              "12"
            ]
          },
          "execution_count": 6,
          "metadata": {},
          "output_type": "execute_result"
        }
      ],
      "source": [
        "b"
      ]
    },
    {
      "cell_type": "code",
      "execution_count": 3,
      "metadata": {
        "colab": {
          "base_uri": "https://localhost:8080/"
        },
        "id": "3MxKl-MAHm9t",
        "outputId": "e5aab1fd-75b2-406d-9053-d1d00fa06fc6"
      },
      "outputs": [
        {
          "output_type": "stream",
          "name": "stdout",
          "text": [
            "Hello World!\n"
          ]
        }
      ],
      "source": [
        "s = \"Hello World!\"\n",
        "print(s)"
      ]
    },
    {
      "cell_type": "code",
      "execution_count": null,
      "metadata": {
        "id": "9OWtgAK8Hm9t",
        "outputId": "8fccbb1c-f5cd-4efc-f510-02657fcaa529"
      },
      "outputs": [
        {
          "data": {
            "text/plain": [
              "'!'"
            ]
          },
          "execution_count": 8,
          "metadata": {},
          "output_type": "execute_result"
        }
      ],
      "source": [
        "s[-1]"
      ]
    },
    {
      "cell_type": "code",
      "execution_count": null,
      "metadata": {
        "id": "Hgm7L-KeHm9t",
        "outputId": "588040c4-ea68-483c-8f8a-bbb0779f39ff"
      },
      "outputs": [
        {
          "data": {
            "text/plain": [
              "'Hello World!'"
            ]
          },
          "execution_count": 9,
          "metadata": {},
          "output_type": "execute_result"
        }
      ],
      "source": [
        "s"
      ]
    },
    {
      "cell_type": "markdown",
      "metadata": {
        "id": "x_MKyN-lHm9t"
      },
      "source": [
        "### Data structures"
      ]
    },
    {
      "cell_type": "code",
      "execution_count": null,
      "metadata": {
        "id": "vrq7VNf9Hm9t"
      },
      "outputs": [],
      "source": [
        "l = [1,2,3]\n",
        "d = {1:\"one\",2:\"two\",3:\"three\"}"
      ]
    },
    {
      "cell_type": "code",
      "execution_count": null,
      "metadata": {
        "id": "uu6zK5d4Hm9t",
        "outputId": "c15ec749-9bc2-40b6-9cff-7f26abcf1cf1"
      },
      "outputs": [
        {
          "data": {
            "text/plain": [
              "[1, 2, 3, 4]"
            ]
          },
          "execution_count": 11,
          "metadata": {},
          "output_type": "execute_result"
        }
      ],
      "source": [
        "l.append(4)\n",
        "l"
      ]
    },
    {
      "cell_type": "code",
      "execution_count": null,
      "metadata": {
        "id": "cPrMNlHkHm9t",
        "outputId": "ef8230ed-84d6-4e7e-9911-8823b29bbd07"
      },
      "outputs": [
        {
          "data": {
            "text/plain": [
              "{1: 'one', 2: 'two', 3: 'three', 4: 'four'}"
            ]
          },
          "execution_count": 12,
          "metadata": {},
          "output_type": "execute_result"
        }
      ],
      "source": [
        "d.update({4:\"four\"})\n",
        "d"
      ]
    },
    {
      "cell_type": "code",
      "execution_count": null,
      "metadata": {
        "id": "6u2YxpDgHm9t",
        "outputId": "ddf744cd-bffe-4513-ddc5-7d0fe4641a93"
      },
      "outputs": [
        {
          "data": {
            "text/plain": [
              "3"
            ]
          },
          "execution_count": 13,
          "metadata": {},
          "output_type": "execute_result"
        }
      ],
      "source": [
        "l[2]"
      ]
    },
    {
      "cell_type": "code",
      "execution_count": null,
      "metadata": {
        "id": "JewJOHLLHm9t",
        "outputId": "6fb7cb9a-fd6d-4696-8dfc-cb330798c0d8"
      },
      "outputs": [
        {
          "data": {
            "text/plain": [
              "[2, 4, 6, 8]"
            ]
          },
          "execution_count": 14,
          "metadata": {},
          "output_type": "execute_result"
        }
      ],
      "source": [
        "# comprehensions\n",
        "\n",
        "[x*2 for x in l]"
      ]
    },
    {
      "cell_type": "code",
      "execution_count": null,
      "metadata": {
        "id": "0yoOrxrNHm9u",
        "outputId": "3d42b095-f228-4a34-8b97-307068fa8950"
      },
      "outputs": [
        {
          "data": {
            "text/plain": [
              "[1, 2, 3, 4, 1, 2, 3, 4]"
            ]
          },
          "execution_count": 15,
          "metadata": {},
          "output_type": "execute_result"
        }
      ],
      "source": [
        "# operations on lists\n",
        "\n",
        "l*2"
      ]
    },
    {
      "cell_type": "code",
      "execution_count": null,
      "metadata": {
        "id": "RLiDm9BNHm9u",
        "outputId": "22b82822-f2ef-46db-c679-8821e80b4408"
      },
      "outputs": [
        {
          "data": {
            "text/plain": [
              "array([1, 2, 3, 4])"
            ]
          },
          "execution_count": 16,
          "metadata": {},
          "output_type": "execute_result"
        }
      ],
      "source": [
        "# arrays\n",
        "import numpy as np\n",
        "\n",
        "v = np.array(l)\n",
        "v"
      ]
    },
    {
      "cell_type": "code",
      "execution_count": null,
      "metadata": {
        "id": "Mqxl7y2tHm9u",
        "outputId": "eb53b554-251b-417e-b9ea-8e2a6b06e017"
      },
      "outputs": [
        {
          "data": {
            "text/plain": [
              "array([2, 4, 6, 8])"
            ]
          },
          "execution_count": 17,
          "metadata": {},
          "output_type": "execute_result"
        }
      ],
      "source": [
        "# broadcasting\n",
        "\n",
        "v*2"
      ]
    },
    {
      "cell_type": "markdown",
      "metadata": {
        "id": "gkr_A6XJHm9u"
      },
      "source": [
        "### Looping"
      ]
    },
    {
      "cell_type": "code",
      "execution_count": null,
      "metadata": {
        "id": "yOCY_13wHm9u",
        "outputId": "3103e8b2-5abf-4b39-dc9c-957a05811d3b"
      },
      "outputs": [
        {
          "name": "stdout",
          "output_type": "stream",
          "text": [
            "0.5\n",
            "1.0\n",
            "1.5\n",
            "2.0\n"
          ]
        }
      ],
      "source": [
        "for x in l:\n",
        "    print(x/2)"
      ]
    },
    {
      "cell_type": "code",
      "execution_count": null,
      "metadata": {
        "id": "vNxRqOw4Hm9u",
        "outputId": "60e67ebf-cddf-4db9-e235-af1e48aef68c"
      },
      "outputs": [
        {
          "name": "stdout",
          "output_type": "stream",
          "text": [
            "1\n",
            "2\n",
            "3\n",
            "4\n"
          ]
        }
      ],
      "source": [
        "n = 0\n",
        "\n",
        "while n < len(l):\n",
        "    print(l[n])\n",
        "    n += 1"
      ]
    },
    {
      "cell_type": "code",
      "execution_count": null,
      "metadata": {
        "id": "kDRImDSlHm9u",
        "outputId": "7fce76da-a2c0-4d14-d17c-986050cd66bc"
      },
      "outputs": [
        {
          "data": {
            "text/plain": [
              "[4, 3, 2, 1]"
            ]
          },
          "execution_count": 20,
          "metadata": {},
          "output_type": "execute_result"
        }
      ],
      "source": [
        "sorted(l, reverse=True)"
      ]
    },
    {
      "cell_type": "code",
      "execution_count": null,
      "metadata": {
        "id": "GnbH8r91Hm9u",
        "outputId": "aa7059f7-d081-47ae-ee58-300f9aae5cd8"
      },
      "outputs": [
        {
          "name": "stdout",
          "output_type": "stream",
          "text": [
            "1\n",
            "2\n"
          ]
        }
      ],
      "source": [
        "for n,x in enumerate(l):\n",
        "    if n < 2:\n",
        "        print(x)"
      ]
    },
    {
      "cell_type": "markdown",
      "metadata": {
        "id": "Cb298a4ZHm9u"
      },
      "source": [
        "### Functions"
      ]
    },
    {
      "cell_type": "code",
      "execution_count": null,
      "metadata": {
        "id": "SPU8RDflHm9u"
      },
      "outputs": [],
      "source": [
        "def power(x,p=2):\n",
        "    return x**p"
      ]
    },
    {
      "cell_type": "code",
      "execution_count": null,
      "metadata": {
        "id": "k7gLkQLnHm9u",
        "outputId": "c72bc143-5842-40bc-d95d-631eac90ea81"
      },
      "outputs": [
        {
          "data": {
            "text/plain": [
              "4"
            ]
          },
          "execution_count": 23,
          "metadata": {},
          "output_type": "execute_result"
        }
      ],
      "source": [
        "power(2)"
      ]
    },
    {
      "cell_type": "code",
      "execution_count": null,
      "metadata": {
        "id": "dH-WVH6wHm9u",
        "outputId": "df143863-708f-4bc6-bde0-5bf1eaee0fb3"
      },
      "outputs": [
        {
          "data": {
            "text/plain": [
              "8"
            ]
          },
          "execution_count": 24,
          "metadata": {},
          "output_type": "execute_result"
        }
      ],
      "source": [
        "power(2,3)"
      ]
    },
    {
      "cell_type": "markdown",
      "metadata": {
        "id": "2Wy8bQDvHm9u"
      },
      "source": [
        "### Questions\n",
        "\n",
        "* Create a list coprehension with an if condition inside.\n",
        "* Create a function that brings a string to lowercase and removes its punctuation."
      ]
    },
    {
      "cell_type": "markdown",
      "source": [
        "this is a change to check if i can push!!\n"
      ],
      "metadata": {
        "id": "BUt1IrSEH7-5"
      }
    },
    {
      "cell_type": "code",
      "source": [],
      "metadata": {
        "id": "AE2nqmimH67Y"
      },
      "execution_count": null,
      "outputs": []
    }
  ],
  "metadata": {
    "kernelspec": {
      "display_name": "Python 3",
      "language": "python",
      "name": "python3"
    },
    "language_info": {
      "codemirror_mode": {
        "name": "ipython",
        "version": 3
      },
      "file_extension": ".py",
      "mimetype": "text/x-python",
      "name": "python",
      "nbconvert_exporter": "python",
      "pygments_lexer": "ipython3",
      "version": "3.8.5"
    },
    "toc": {
      "nav_menu": {},
      "number_sections": true,
      "sideBar": true,
      "skip_h1_title": false,
      "title_cell": "Table of Contents",
      "title_sidebar": "Contents",
      "toc_cell": false,
      "toc_position": {},
      "toc_section_display": true,
      "toc_window_display": false
    },
    "colab": {
      "provenance": []
    }
  },
  "nbformat": 4,
  "nbformat_minor": 0
}